{
  "cells": [
    {
      "cell_type": "markdown",
      "metadata": {
        "id": "SU3D9UqNnGTj"
      },
      "source": [
        "#***FOR***\n",
        "\n",
        "Se usa cuando:\n",
        "* se sabe cuantas veces se repite una acción\n",
        "* Contador: Identifica cuantas veces se va repetir el bucle y con que frecuencia\n",
        "* Condición: Evalua cuando se detiene\n",
        "\n",
        "ejemplo:\n",
        "\n",
        "\n",
        "for variable in range (v1, vf+1, paso):\n",
        "\n",
        "Donde\n",
        "1. v1 es la condición inicial. Donde arranca a contar.\n",
        "2. vf+1: Condición final. Dónde dejo de contar+1\n",
        "3. paso: Frecuencia de conteo\n",
        "\n",
        "for para recorrido de listas\n"
      ]
    },
    {
      "cell_type": "markdown",
      "metadata": {
        "id": "3gYNIEIRxPuT"
      },
      "source": [
        "#Listas\n",
        "\n",
        "* Conjunto de objetos, **indexado**, separado por comas, y encerrado entre []\n",
        "* Todos los elementos de una lista se empiezan a contar desde 0\n",
        "# Creación de listas\n",
        "\n",
        "* Forma general: lista = []\n",
        "* Forma manual = animales = [\"oso\", \"perro\", \"gato\", etc]\n",
        "* Por conversion: numero = list(range(10))"
      ]
    },
    {
      "cell_type": "code",
      "execution_count": 1,
      "metadata": {
        "id": "BY_NJNh2nBip"
      },
      "outputs": [
        {
          "data": {
            "text/plain": [
              "['gato', 'perro', (1, 2, 3, 4), 'oso']"
            ]
          },
          "execution_count": 1,
          "metadata": {},
          "output_type": "execute_result"
        }
      ],
      "source": [
        "zorro = (1,2,3,4)\n",
        "animales = [\"gato\", \"perro\", zorro, \"oso\"]\n",
        "animales"
      ]
    },
    {
      "cell_type": "markdown",
      "metadata": {},
      "source": [
        "# For para recorrido de listas\n",
        "\n",
        "* El para va iterar tantas veces como elementos tenga la lista\n",
        "* la variable dentro del para toma como valor cada elemento de la lista"
      ]
    },
    {
      "cell_type": "code",
      "execution_count": null,
      "metadata": {},
      "outputs": [],
      "source": [
        "#Ejemplo: \n",
        "\n",
        "flor = [\"amapola\", \"rosa\", \"Tulipan\", \"orquidea\"]\n",
        "\n",
        "for rosa in flor:\n",
        "    print(rosa)\n"
      ]
    },
    {
      "cell_type": "markdown",
      "metadata": {},
      "source": [
        "# Esctructura While\n",
        "\n",
        "* Se emplea cuando **No se sabe** Cuantas veces se debe repetir una acción, pero si se conoce la condición de parada (CP).\n",
        "* Condición inicial: Donde arranca el ciclo\n",
        "* Condición final (parada): Que indican dónde se detiene el ciclo\n",
        "* Modificafor de condición inicial \n",
        "\n",
        "**Estructura general del mientras**\n",
        "\n",
        "    Condición inical\n",
        "    while (condición == condición incial):\n",
        "     modificador de condición inicial\n",
        "\n",
        "# Modificadores de condición inicial\n",
        "* Banderas: Son variables booleanas que indican si se cumple o no una condición.\n",
        "* Son preguntas\n",
        "* Son contadores o acumuladores "
      ]
    }
  ],
  "metadata": {
    "colab": {
      "collapsed_sections": [
        "3gYNIEIRxPuT"
      ],
      "provenance": []
    },
    "kernelspec": {
      "display_name": "Python 3",
      "name": "python3"
    },
    "language_info": {
      "codemirror_mode": {
        "name": "ipython",
        "version": 3
      },
      "file_extension": ".py",
      "mimetype": "text/x-python",
      "name": "python",
      "nbconvert_exporter": "python",
      "pygments_lexer": "ipython3",
      "version": "3.13.1"
    }
  },
  "nbformat": 4,
  "nbformat_minor": 0
}

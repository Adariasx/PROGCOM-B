{
  "nbformat": 4,
  "nbformat_minor": 0,
  "metadata": {
    "colab": {
      "provenance": [],
      "authorship_tag": "ABX9TyPiPpHD8Y8ep9qzLvYG9+as",
      "include_colab_link": true
    },
    "kernelspec": {
      "name": "python3",
      "display_name": "Python 3"
    },
    "language_info": {
      "name": "python"
    }
  },
  "cells": [
    {
      "cell_type": "markdown",
      "metadata": {
        "id": "view-in-github",
        "colab_type": "text"
      },
      "source": [
        "<a href=\"https://colab.research.google.com/github/Adariasx/PROGCOM-B/blob/main/taller_diccionarios.ipynb\" target=\"_parent\"><img src=\"https://colab.research.google.com/assets/colab-badge.svg\" alt=\"Open In Colab\"/></a>"
      ]
    },
    {
      "cell_type": "code",
      "execution_count": 4,
      "metadata": {
        "colab": {
          "base_uri": "https://localhost:8080/"
        },
        "id": "fhoHbWEnA3O8",
        "outputId": "71469f82-4ef2-4895-e511-b0dda9205c56"
      },
      "outputs": [
        {
          "output_type": "stream",
          "name": "stdout",
          "text": [
            "El estudiante con la mayor nota es: Carlos\n"
          ]
        }
      ],
      "source": [
        "## Punto 17\n",
        "\n",
        "Estudiantes = {\"Estudiantes\": [\"Ana\", \"Luis\", \"Carlos\"],\n",
        "                   \"Notas\": [23, 45, 53]}\n",
        "\n",
        "def estudiante_con_mayor_nota(notas):\n",
        "  estudiante_mayor_nota = \"\"\n",
        "  mayor_nota = -1\n",
        "\n",
        "  for estudiante, nota in notas.items():\n",
        "    if nota > mayor_nota:\n",
        "      mayor_nota = nota\n",
        "      estudiante_mayor_nota = estudiante\n",
        "\n",
        "  return estudiante_mayor_nota\n",
        "\n",
        "notas_estudiantes = dict(zip(Estudiantes[\"Estudiantes\"], Estudiantes[\"Notas\"]))\n",
        "\n",
        "Mas_inteligente = estudiante_con_mayor_nota(notas_estudiantes)\n",
        "print(f\"El estudiante con la mayor nota es: {Mas_inteligente}\")"
      ]
    },
    {
      "cell_type": "code",
      "source": [
        "## punto 19\n",
        "datos_empleados = {\"Empleados\": [\"Ana\", \"Luis\", \"Carlos\"],\n",
        "                   \"Horas trabajadas\": [23, 45, 53]}\n",
        "\n",
        "def calcular_total_horas(empleados):\n",
        "  total_horas = {}\n",
        "  nombres = empleados[\"Empleados\"]\n",
        "  horas = empleados[\"Horas trabajadas\"]\n",
        "  for i in range(len(nombres)):\n",
        "    total_horas[nombres[i]] = horas[i]\n",
        "  return total_horas\n",
        "\n",
        "\n",
        "horas_totales_por_empleado = calcular_total_horas(datos_empleados)\n",
        "\n",
        "usuario = input(\"Ingrese el nombre del empleado: \")\n",
        "if usuario in horas_totales_por_empleado:\n",
        "    print(f\"{usuario} ha trabajado un total de {horas_totales_por_empleado[usuario]} horas.\")\n",
        "else:\n",
        "    print(\"Empleado no encontrado.\")\n",
        "\n"
      ],
      "metadata": {
        "colab": {
          "base_uri": "https://localhost:8080/"
        },
        "id": "a8uoShRkG1Sw",
        "outputId": "69b4fee7-4ce5-42d5-eb5c-b8222fb22a1e"
      },
      "execution_count": 5,
      "outputs": [
        {
          "output_type": "stream",
          "name": "stdout",
          "text": [
            "Ingrese el nombre del empleado: Ana\n",
            "Ana ha trabajado un total de 23 horas.\n"
          ]
        }
      ]
    }
  ]
}
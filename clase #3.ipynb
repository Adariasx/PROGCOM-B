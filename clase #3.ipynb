{
 "cells": [
  {
   "cell_type": "markdown",
   "id": "b753c537",
   "metadata": {},
   "source": [
    "# Segunda tanda de ejercicos diagnostica"
   ]
  },
  {
   "cell_type": "markdown",
   "id": "fd1bc688",
   "metadata": {},
   "source": [
    "1. programa que imrpima del 1 - 10"
   ]
  },
  {
   "cell_type": "code",
   "execution_count": null,
   "id": "37c54918",
   "metadata": {},
   "outputs": [],
   "source": [
    "for i in range (1, 11):\n",
    "    print(i)"
   ]
  },
  {
   "cell_type": "code",
   "execution_count": null,
   "id": "b9da501b",
   "metadata": {},
   "outputs": [],
   "source": [
    "numeros = list(range(1, 11))\n",
    "print(numeros)"
   ]
  },
  {
   "cell_type": "markdown",
   "id": "b2ac0695",
   "metadata": {},
   "source": [
    "2. Prgrama que sume los numeros del 1 al 100"
   ]
  },
  {
   "cell_type": "code",
   "execution_count": null,
   "id": "3d5ac503",
   "metadata": {},
   "outputs": [],
   "source": [
    "suma = 0\n",
    "for i in range(1, 101):\n",
    "    suma += i\n",
    "print(\"La suma de los números del 1 al 100 es:\", suma)"
   ]
  },
  {
   "cell_type": "code",
   "execution_count": null,
   "id": "cd0c74a2",
   "metadata": {},
   "outputs": [],
   "source": [
    "suma= []\n",
    "for n in range(1, 101):\n",
    "    suma.append(sum(range(1, n+1)))\n",
    "print(suma)"
   ]
  },
  {
   "cell_type": "markdown",
   "id": "98ef1c7a",
   "metadata": {},
   "source": [
    "3. Programa que imprima los multiplos de 3 entre 1 y 30"
   ]
  },
  {
   "cell_type": "code",
   "execution_count": null,
   "id": "b6bd14dc",
   "metadata": {},
   "outputs": [],
   "source": [
    "for numero in range(1, 31):\n",
    "    if numero % 3 == 0:\n",
    "        print(numero)"
   ]
  },
  {
   "cell_type": "code",
   "execution_count": null,
   "id": "c4ccc27d",
   "metadata": {},
   "outputs": [],
   "source": [
    "multiples = []\n",
    "for num in range(1, 31):\n",
    "    if num % 3 == 0:\n",
    "        multiples.append(num)\n",
    "print(multiples)"
   ]
  },
  {
   "cell_type": "markdown",
   "id": "e3a901f4",
   "metadata": {},
   "source": [
    "4. programa que lea un numero e imprima su tabla de multiplicar del 1 al 10"
   ]
  },
  {
   "cell_type": "code",
   "execution_count": null,
   "id": "e52c7720",
   "metadata": {},
   "outputs": [],
   "source": [
    "numero = int(input(\"Introduce un número: \"))\n",
    "print(f\"Tabla de multiplicar del {numero}:\")\n",
    "for i in range(1, 11):\n",
    "    print(f\"{numero} x {i} = {numero * i}\")"
   ]
  },
  {
   "cell_type": "code",
   "execution_count": null,
   "id": "e849dbc6",
   "metadata": {},
   "outputs": [],
   "source": [
    "numero = int(input(\"Introduce un número: \"))\n",
    "tabla = []\n",
    "for i in range(1, 11):\n",
    "    tabla.append(f\"{numero} x {i} = {numero * i}\")\n",
    "print(f\"Tabla de multiplicar del {numero}:\")\n",
    "for linea in tabla:\n",
    "    print(linea)"
   ]
  },
  {
   "cell_type": "markdown",
   "id": "181b5520",
   "metadata": {},
   "source": [
    "5. Escribe un programa que pida 5 numeros al usuario y calcule el promedio"
   ]
  },
  {
   "cell_type": "code",
   "execution_count": null,
   "id": "48c82ca6",
   "metadata": {},
   "outputs": [],
   "source": [
    "suma = 0\n",
    "for _ in range(5):\n",
    "    numero_ingresado = float(input(\"Introduce un número: \"))\n",
    "    suma += numero_ingresado\n",
    "promedio = suma / 5\n",
    "print(f\"El promedio de los números ingresados es: {promedio}\")"
   ]
  },
  {
   "cell_type": "code",
   "execution_count": null,
   "id": "6ff5cb74",
   "metadata": {},
   "outputs": [],
   "source": [
    "numeros_usuario = []\n",
    "for _ in range(5):\n",
    "    numero_ingresado = float(input(\"Introduce un número: \"))\n",
    "    numeros_usuario.append(numero_ingresado)\n",
    "promedio = sum(numeros_usuario) / len(numeros_usuario)\n",
    "print(f\"El promedio de los números ingresados es: {promedio}\")"
   ]
  },
  {
   "cell_type": "markdown",
   "id": "faa0e12d",
   "metadata": {},
   "source": [
    "6. Programa que cuente cuantos numeros pares hay entre 1 y un numero ingresado"
   ]
  },
  {
   "cell_type": "code",
   "execution_count": null,
   "id": "c0d74f4d",
   "metadata": {},
   "outputs": [],
   "source": [
    "numero = int(input(\"Introduce un número: \"))\n",
    "contador_pares = 0\n",
    "for i in range(1, numero + 1):\n",
    "    if i % 2 == 0:\n",
    "        contador_pares += 1\n",
    "print(f\"Cantidad de números pares entre 1 y {numero}: {contador_pares}\")"
   ]
  },
  {
   "cell_type": "code",
   "execution_count": null,
   "id": "33aa7732",
   "metadata": {},
   "outputs": [],
   "source": [
    "numeros_pares = []\n",
    "numero = int(input(\"Introduce un número: \"))\n",
    "for i in range(1, numero + 1):\n",
    "    if i % 2 == 0:\n",
    "        numeros_pares.append(i)\n",
    "print(f\"Cantidad de números pares entre 1 y {numero}: {len(numeros_pares)}\")\n",
    "print(f\"{numeros_pares}\")"
   ]
  },
  {
   "cell_type": "markdown",
   "id": "a76d979d",
   "metadata": {},
   "source": [
    "7. un programa que solicite contraseñas hasta que el usuario ingrese una valida, formado por su apellido y la longitud de su apellido ejemplo \"espinosa8\","
   ]
  },
  {
   "cell_type": "code",
   "execution_count": null,
   "id": "c6d8872e",
   "metadata": {},
   "outputs": [],
   "source": [
    "apellido = input(\"Introduce tu apellido: \")\n",
    "longitud = len(apellido)\n",
    "for i in range(3):\n",
    "    contrasena = input(\"Introduce una contraseña: \")\n",
    "    if contrasena == apellido + str(longitud):\n",
    "        print(\"Contraseña válida, bienvenido.\")\n",
    "        break\n",
    "    else:\n",
    "        print(\"Contraseña inválida, otra vez bobo\")"
   ]
  },
  {
   "cell_type": "code",
   "execution_count": null,
   "id": "2ec8c1fc",
   "metadata": {},
   "outputs": [],
   "source": [
    "apellido = input(\"Introduce tu apellido: \")\n",
    "longitud = len(apellido)\n",
    "contrasenas_validas = []\n",
    "while True:\n",
    "    contrasena = input(\"Introduce una contraseña: \")\n",
    "    if contrasena == apellido + str(longitud):\n",
    "        print(\"Contraseña válida.\")\n",
    "        contrasenas_validas.append(contrasena)\n",
    "        break\n",
    "    else:\n",
    "        print(\"Contraseña inválida, otra vez bobo\")"
   ]
  },
  {
   "cell_type": "markdown",
   "id": "89abc59d",
   "metadata": {},
   "source": [
    "8. Un programa que imprima los primeros n numeros de la serie fibonacci"
   ]
  },
  {
   "cell_type": "code",
   "execution_count": null,
   "id": "7e8dbce4",
   "metadata": {},
   "outputs": [],
   "source": [
    "n = int(input(\"Introduce un número: \"))\n",
    "a, b = 0, 1\n",
    "for i in range(n):\n",
    "    print(a)\n",
    "    a, b = b, a + b"
   ]
  },
  {
   "cell_type": "code",
   "execution_count": null,
   "id": "5b7d7d71",
   "metadata": {},
   "outputs": [],
   "source": [
    "fibonacci = []\n",
    "n = int(input(\"Introduce un número: \"))\n",
    "a, b = 0, 1\n",
    "for i in range(n):\n",
    "    fibonacci.append(a)\n",
    "    a, b = b, a + b\n",
    "print(fibonacci)"
   ]
  }
 ],
 "metadata": {
  "kernelspec": {
   "display_name": "Python 3",
   "language": "python",
   "name": "python3"
  },
  "language_info": {
   "codemirror_mode": {
    "name": "ipython",
    "version": 3
   },
   "file_extension": ".py",
   "mimetype": "text/x-python",
   "name": "python",
   "nbconvert_exporter": "python",
   "pygments_lexer": "ipython3",
   "version": "3.13.1"
  }
 },
 "nbformat": 4,
 "nbformat_minor": 5
}

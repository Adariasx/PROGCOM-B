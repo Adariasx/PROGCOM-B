{
 "cells": [
  {
   "cell_type": "markdown",
   "id": "c78aa063",
   "metadata": {},
   "source": [
    "## Taller Listas, pero en lenguaje **Lua**"
   ]
  },
  {
   "cell_type": "markdown",
   "id": "2c024220",
   "metadata": {},
   "source": [
    "*Punto **1***"
   ]
  },
  {
   "cell_type": "code",
   "execution_count": null,
   "id": "5261d26b",
   "metadata": {},
   "outputs": [],
   "source": [
    "cuadrados = {}\n",
    "\n",
    "for i = 1, 10 do\n",
    "    table.insert(cuadrados, i * i)\n",
    "end\n",
    "\n",
    "print(\"1:\", table.concat(cuadrados, \", \"))"
   ]
  },
  {
   "cell_type": "markdown",
   "id": "c165b736",
   "metadata": {},
   "source": [
    "*Punto **2***"
   ]
  },
  {
   "cell_type": "code",
   "execution_count": null,
   "id": "e05d7df8",
   "metadata": {},
   "outputs": [],
   "source": [
    "Numerosdel0al20 = {}\n",
    "for i = 0, 20 do\n",
    "    if i % 2 == 0 then\n",
    "        table.insert(Numerosdel0al20, i)\n",
    "    end\n",
    "end\n",
    "print(\"2:\", table.concat(Numerosdel0al20, \", \"))"
   ]
  },
  {
   "cell_type": "markdown",
   "id": "c78ecc32",
   "metadata": {},
   "source": [
    "*Punto **3***"
   ]
  },
  {
   "cell_type": "code",
   "execution_count": null,
   "id": "31ca22f4",
   "metadata": {},
   "outputs": [],
   "source": [
    "Numeros2x = {}\n",
    "for i = 1, 5 do\n",
    "    table.insert(Numeros2x, i * 2)\n",
    "end\n",
    "print(\"3:\", table.concat(Numeros2x, \", \"))"
   ]
  },
  {
   "cell_type": "markdown",
   "id": "b5b8c9df",
   "metadata": {},
   "source": [
    "*Punto **4***"
   ]
  },
  {
   "cell_type": "code",
   "execution_count": null,
   "id": "23112320",
   "metadata": {},
   "outputs": [],
   "source": [
    "vocales = {}\n",
    "for letra in (\"programacion\"):gmatch(\".\") do\n",
    "    if letra:match(\"[aeiou]\") then\n",
    "        table.insert(vocales, letra)\n",
    "    end\n",
    "end\n",
    "print(\"4:\", table.concat(vocales, \", \"))"
   ]
  },
  {
   "cell_type": "markdown",
   "id": "7b5253c3",
   "metadata": {},
   "source": [
    "*Punto **5***"
   ]
  },
  {
   "cell_type": "code",
   "execution_count": null,
   "id": "348bb745",
   "metadata": {},
   "outputs": [],
   "source": [
    "lenguajes = {\"python\", \"java\", \"c++\"}\n",
    "mayusculas = {}\n",
    "for _, palabra in ipairs(lenguajes) do\n",
    "    table.insert(mayusculas, string.upper(palabra))\n",
    "end\n",
    "print(\"5:\", table.concat(mayusculas, \", \"))"
   ]
  },
  {
   "cell_type": "markdown",
   "id": "df82754f",
   "metadata": {},
   "source": [
    "*Punto **6***"
   ]
  },
  {
   "cell_type": "code",
   "execution_count": null,
   "id": "dc7f2165",
   "metadata": {},
   "outputs": [],
   "source": [
    "par_impar = {}\n",
    "for i = 1, 10 do\n",
    "    if i % 2 == 0 then\n",
    "        table.insert(par_impar, \"par\")\n",
    "    else\n",
    "        table.insert(par_impar, \"impar\")\n",
    "    end\n",
    "end\n",
    "print(\"6:\", table.concat(par_impar, \", \"))"
   ]
  },
  {
   "cell_type": "markdown",
   "id": "a81f11a9",
   "metadata": {},
   "source": [
    "*Punto **7***"
   ]
  },
  {
   "cell_type": "code",
   "execution_count": null,
   "id": "4c5a5f43",
   "metadata": {},
   "outputs": [],
   "source": [
    "tuplas = {}\n",
    "for i = 1, 5 do\n",
    "    table.insert(tuplas, \"(\" .. i .. \",\" .. i * i .. \")\")\n",
    "end\n",
    "print(\"7:\", table.concat(tuplas, \", \"))"
   ]
  },
  {
   "cell_type": "markdown",
   "id": "874c5437",
   "metadata": {},
   "source": [
    "*Punto **8***"
   ]
  },
  {
   "cell_type": "code",
   "execution_count": null,
   "id": "5f25d464",
   "metadata": {},
   "outputs": [],
   "source": [
    "combinaciones = {}\n",
    "for _, letra in ipairs({\"a\", \"b\"}) do\n",
    "    for _, num in ipairs({1, 2, 3}) do\n",
    "        table.insert(combinaciones, letra .. num)\n",
    "    end\n",
    "end\n",
    "print(\"8:\", table.concat(combinaciones, \", \"))"
   ]
  },
  {
   "cell_type": "markdown",
   "id": "071e3021",
   "metadata": {},
   "source": [
    "*Punto **9***"
   ]
  },
  {
   "cell_type": "code",
   "execution_count": null,
   "id": "b1e1372c",
   "metadata": {},
   "outputs": [],
   "source": [
    "palabras = {\"sol\", \"estrella\", \"mar\", \"planeta\", \"arroz\"}\n",
    "largas = {}\n",
    "for _, p in ipairs(palabras) do\n",
    "    if #p > 5 then\n",
    "        table.insert(largas, p)\n",
    "    end\n",
    "end\n",
    "print(\"9:\", table.concat(largas, \", \"))"
   ]
  },
  {
   "cell_type": "markdown",
   "id": "d99d8868",
   "metadata": {},
   "source": [
    "*Punto **10***"
   ]
  },
  {
   "cell_type": "code",
   "execution_count": null,
   "id": "32aa73df",
   "metadata": {},
   "outputs": [],
   "source": [
    "temperaturas = {20, 25, 27, 30, 33}\n",
    "clima = {}\n",
    "for _, t in ipairs(temperaturas) do\n",
    "    if t < 26 then\n",
    "        table.insert(clima, \"frío\")\n",
    "    elseif t <= 29 then\n",
    "        table.insert(clima, \"templado\")\n",
    "    else\n",
    "        table.insert(clima, \"caliente\")\n",
    "    end\n",
    "end\n",
    "for i, t in ipairs(temperaturas) do\n",
    "    print(\"10:\", t, \"→\", clima[i])\n",
    "end"
   ]
  }
 ],
 "metadata": {
  "language_info": {
   "name": "python"
  }
 },
 "nbformat": 4,
 "nbformat_minor": 5
}

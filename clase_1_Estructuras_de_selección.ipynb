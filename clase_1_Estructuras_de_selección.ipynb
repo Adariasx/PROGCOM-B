{
  "nbformat": 4,
  "nbformat_minor": 0,
  "metadata": {
    "colab": {
      "provenance": [],
      "authorship_tag": "ABX9TyODMI24LBxj85QfdDSh4PJa",
      "include_colab_link": true
    },
    "kernelspec": {
      "name": "python3",
      "display_name": "Python 3"
    },
    "language_info": {
      "name": "python"
    }
  },
  "cells": [
    {
      "cell_type": "markdown",
      "metadata": {
        "id": "view-in-github",
        "colab_type": "text"
      },
      "source": [
        "<a href=\"https://colab.research.google.com/github/Adariasx/PROGCOM-B/blob/main/clase_1_estructuras_de_selecci_n.ipynb\" target=\"_parent\"><img src=\"https://colab.research.google.com/assets/colab-badge.svg\" alt=\"Open In Colab\"/></a>"
      ]
    },
    {
      "cell_type": "code",
      "execution_count": null,
      "metadata": {
        "id": "RwVQNlQLK5s-"
      },
      "outputs": [],
      "source": [
        "\n",
        "### PUNTO 1 ###\n",
        "\n",
        "numero = float(input(\"Ingrese su numero: \"))\n",
        "if numero > 0:\n",
        "    print(\"El numero es positivo\")\n",
        "else:\n",
        "    print(\"El numero es negativo\")\n",
        "\n",
        "\n",
        "\n",
        "\n",
        "numero = float(input(\"Ingrese su numero: \"))\n",
        "if numero > 0:\n",
        "    print(\"El numero es positivo\")\n",
        "elif numero == 0:\n",
        "    print(\"No es negativo ni positivo\")\n",
        "else:\n",
        "    print(\"El numero es negativo\")\n",
        "\n",
        "\n",
        "numero = float(input(\"Ingrese su numero: \"))\n",
        "print(\"El numero es positivo\" if numero > 0 else \"El numero es negativo\")"
      ]
    },
    {
      "cell_type": "code",
      "source": [
        "### PUNTO 2 ###\n",
        "\n",
        "edad = int(input(\"Ingrese su edad: \"))\n",
        "if edad >= 18:\n",
        "    print(\"Ya estas viejo vv\")\n",
        "elif edad < 0:\n",
        "    print(\"el bro ni ha nacido\")\n",
        "else:\n",
        "    print(\"Vaya estudie mas bien\")\n",
        "\n",
        "\n",
        "\n",
        "edad = int(input(\"Ingrese su edad: \"))\n",
        "\n",
        "if edad >= 18:\n",
        "    print(\"Ya estás viejo vv\")\n",
        "else:\n",
        "    if edad < 0:\n",
        "        print(\"El bro ni ha nacido\")\n",
        "    else:\n",
        "        print(\"Vaya estudie más bien\")\n",
        "\n",
        "\n",
        "\n",
        "edad = int(input(\"Ingrese su edad: \"))\n",
        "\n",
        "print(\"Ya estás viejo vv\" if edad >= 18 else \"El bro ni ha nacido\" if edad < 0 else \"Vaya estudie más bien\")"
      ],
      "metadata": {
        "id": "Yp1mWQ4yUUfm"
      },
      "execution_count": null,
      "outputs": []
    },
    {
      "cell_type": "code",
      "source": [
        "### PUNTO 3 ###\n",
        "\n",
        "a = (input(\"Primero ingresa un numero: \"))\n",
        "b = (input(\"Ingresa otro numero: \"))\n",
        "\n",
        "if a > b:\n",
        "    print(\"el mayor es: \", a)\n",
        "elif a < b:\n",
        "    print(\"el mayor es: \", b)\n",
        "else:\n",
        "    print(\"Ambos números son iguales\")\n",
        "\n",
        "\n",
        "a = input(\"Primero ingresa un numero: \")\n",
        "b = input(\"Ingresa otro numero: \")\n",
        "\n",
        "if a > b:\n",
        "    print(\"el mayor es: \", a)\n",
        "else:\n",
        "    if a < b:\n",
        "        print(\"el mayor es: \", b)\n",
        "    else:\n",
        "        print(\"Ambos números son iguales\")\n",
        "\n",
        "a = int(input(\"Primero ingresa un número: \"))\n",
        "b = int(input(\"Ingresa otro número: \"))\n",
        "\n",
        "print(\"El mayor es:\", a if a > b else b if b > a else \"Ambos números son iguales\")\n"
      ],
      "metadata": {
        "id": "9c8OV0DEUY5U"
      },
      "execution_count": null,
      "outputs": []
    },
    {
      "cell_type": "code",
      "source": [
        "### PUNTO 4 ###\n",
        "\n",
        "calificacion = int(input(\"Ingrese su calificación (0-100): \"))\n",
        "if calificacion >= 60:\n",
        "    print(\"Aprobado\")\n",
        "else:\n",
        "    print(\"La perdiste\")\n",
        "\n",
        "calificacion = int(input(\"Ingrese su calificación (0-100): \"))\n",
        "if calificacion >= 60:\n",
        "    print(\"Aprobado\")\n",
        "elif calificacion < 0:\n",
        "  print(\"esa nota no existe\")\n",
        "else:\n",
        "    print(\"La perdiste\")\n",
        "\n",
        "calificacion = int(input(\"Ingrese su calificación (0-100): \"))\n",
        "\n",
        "print(\"esa nota no existe\" if calificacion < 0 or calificacion > 100 else \"Aprobado\" if calificacion >= 60 else \"La perdiste\")\n"
      ],
      "metadata": {
        "colab": {
          "base_uri": "https://localhost:8080/"
        },
        "id": "lfRmqJCkXGiq",
        "outputId": "30d443de-1d0a-4729-daa1-487df27c43ad",
        "collapsed": true
      },
      "execution_count": null,
      "outputs": [
        {
          "output_type": "stream",
          "name": "stdout",
          "text": [
            "Ingrese su calificación (0-100): 34\n",
            "La perdiste\n",
            "Ingrese su calificación (0-100): -12\n",
            "esa nota no existe\n"
          ]
        }
      ]
    },
    {
      "cell_type": "code",
      "source": [
        "### PUNTO 5 ###\n",
        "\n",
        "numero_par_impar = int(input(\"Ingrese un número: \"))\n",
        "if numero_par_impar % 2 == 0:\n",
        "    print(\"El número es par\")\n",
        "else:\n",
        "    print(\"El número es impar\")\n",
        "\n",
        "\n",
        "numero_par_impar = int(input(\"Ingrese un número: \"))\n",
        "\n",
        "if numero_par_impar % 2 == 0:\n",
        "    print(\"El número es par\")\n",
        "elif numero_par_impar % 2 != 0:\n",
        "    print(\"El número es impar\")\n",
        "\n",
        "numero_par_impar = int(input(\"Ingrese un número: \"))\n",
        "\n",
        "print(\"El número es par\" if numero_par_impar % 2 == 0 else \"El número es impar\")"
      ],
      "metadata": {
        "id": "jQghAgITXzkp"
      },
      "execution_count": null,
      "outputs": []
    },
    {
      "cell_type": "code",
      "source": [
        "### PUNTO 6 ###\n",
        "\n",
        "a = (input(\"Ingrese un numero: \"))\n",
        "\n",
        "b = (input(\"Ingrese otro numero: \"))\n",
        "\n",
        "c = (input(\"Ingrese otro numero más: \"))\n",
        "\n",
        "a = float(a)\n",
        "b = float(b)\n",
        "c = float(c)\n",
        "\n",
        "if a >= b and a >= c:\n",
        "    print(\"El mayor es: \", int(a))\n",
        "elif b >= a and b >= c:\n",
        "    print(\"El mayor es: \", int(b))\n",
        "else:\n",
        "    print(\"El mayor es: \", int(c))\n",
        "\n",
        "a = float(input(\"Ingrese un número: \"))\n",
        "b = float(input(\"Ingrese otro número: \"))\n",
        "c = float(input(\"Ingrese otro número más: \"))\n",
        "\n",
        "if a >= b and a >= c:\n",
        "    print(\"El mayor es:\", int(a))\n",
        "else:\n",
        "    if b >= a and b >= c:\n",
        "        print(\"El mayor es:\", int(b))\n",
        "    else:\n",
        "        print(\"El mayor es:\", int(c))\n",
        "\n",
        "a = float(input(\"Ingrese un número: \"))\n",
        "b = float(input(\"Ingrese otro número: \"))\n",
        "c = float(input(\"Ingrese otro número más: \"))\n",
        "\n",
        "mayor = a if a >= b and a >= c else b if b >= a and b >= c else c\n",
        "\n",
        "print(\"El mayor es:\", int(mayor))"
      ],
      "metadata": {
        "id": "2ZwVmUOlczsU"
      },
      "execution_count": null,
      "outputs": []
    },
    {
      "cell_type": "code",
      "source": [
        "### PUNTO 7 ###\n",
        "\n",
        "año = int(input(\"Ingrese un año: \"))\n",
        "\n",
        "if (año % 4 == 0 and año % 100 != 0) or (año % 400 == 0):\n",
        "    print(\"el año es bisiesto\")\n",
        "else:\n",
        "    print(\"No es bisiesto\")\n",
        "\n",
        "\n",
        "año = int(input(\"Ingrese un año: \"))\n",
        "\n",
        "print(\"el año es bisiesto\" if (año % 4 == 0 and año % 100 != 0) or (año % 400 == 0) else \"No es bisiesto\")\n",
        "\n",
        "\n",
        "\n",
        "año = int(input(\"Ingrese un año: \"))\n",
        "\n",
        "if año % 4 != 0:\n",
        "    print(\"No es bisiesto\")\n",
        "elif año % 100 != 0:\n",
        "    print(\"El año es bisiesto\")\n",
        "elif año % 400 == 0:\n",
        "    print(\"El año es bisiesto\")\n",
        "else:\n",
        "    print(\"No es bisiesto\")\n",
        "\n",
        "\n",
        "\n",
        "año = int(input(\"Ingrese un año: \"))0\n",
        "\n",
        "print(\"El año es bisiesto\" if (año % 4 == 0 and año % 100 != 0) or (año % 400 == 0) else \"No es bisiesto\")\n"
      ],
      "metadata": {
        "id": "3vHPy6RFYJLJ"
      },
      "execution_count": null,
      "outputs": []
    },
    {
      "cell_type": "code",
      "source": [
        "### PUNTO 8 ####\n",
        "\n",
        "contraseña =  input(\"Ingrese una contraseña: \")\n",
        "\n",
        "tiene_longitud = len(contraseña) > 8\n",
        "tiene_numero = any(char.isdigit() for char in contraseña)\n",
        "tiene_mayuscula = any(char.isupper() for char in contraseña)\n",
        "\n",
        "if tiene_longitud and tiene_numero and tiene_mayuscula:\n",
        "    print(\"La contraseña es válida\")\n",
        "else:\n",
        "    print(\"La contraseña NO cumple con los requisitos, vuelvalo a hacer bobo\")\n",
        "\n",
        "\n",
        "\n",
        "\n",
        "contraseña = input(\"Ingrese una contraseña: \")\n",
        "\n",
        "tiene_longitud = len(contraseña) > 8\n",
        "tiene_numero = any(char.isdigit() for char in contraseña)\n",
        "tiene_mayuscula = any(char.isupper() for char in contraseña)\n",
        "\n",
        "if tiene_longitud and tiene_numero and tiene_mayuscula:\n",
        "    print(\"La contraseña es válida\")\n",
        "elif not tiene_longitud:\n",
        "    print(\"La contraseña es muy corta\")\n",
        "elif not tiene_numero:\n",
        "    print(\"La contraseña debe contener al menos un número\")\n",
        "elif not tiene_mayuscula:\n",
        "    print(\"La contraseña debe contener al menos una letra mayúscula\")\n",
        "else:\n",
        "    print(\"La contraseña NO cumple con los requisitos, vuelva a intentarlo\")\n",
        "\n",
        "\n",
        "\n",
        "\n",
        "\n",
        "contraseña = input(\"Ingrese una contraseña: \")\n",
        "\n",
        "tiene_longitud = len(contraseña) > 8\n",
        "tiene_numero = any(char.isdigit() for char in contraseña)\n",
        "tiene_mayuscula = any(char.isupper() for char in contraseña)\n",
        "\n",
        "print(\"La contraseña es válida\" if tiene_longitud and tiene_numero and tiene_mayuscula\n",
        "      else \"La contraseña NO cumple con los requisitos, vuelvalo a hacer bobo\")\n"
      ],
      "metadata": {
        "colab": {
          "base_uri": "https://localhost:8080/"
        },
        "id": "CbnX3TzNaZHn",
        "outputId": "78093934-94ac-487f-9c5a-3b02ff0dfac6"
      },
      "execution_count": null,
      "outputs": [
        {
          "output_type": "stream",
          "name": "stdout",
          "text": [
            "Ingrese una contraseña: \n",
            "La contraseña NO cumple con los requisitos, vuelvalo a hacer bobo\n"
          ]
        }
      ]
    },
    {
      "cell_type": "code",
      "source": [
        "### PUNTO 9 ###\n",
        "\n",
        "numero = int(input(\"Ingrese un numero: \"))\n",
        "\n",
        "if numero % 3 == 0 and numero % 5 == 0:\n",
        "    print(\"FizzBuzz\")\n",
        "elif numero % 3 == 0:\n",
        "    print(\"Fizz\")\n",
        "elif numero % 5 == 0:\n",
        "    print(\"Buzz\")\n",
        "\n",
        "numero = int(input(\"Ingrese un número: \"))\n",
        "\n",
        "if numero % 3 == 0 and numero % 5 == 0:\n",
        "    print(\"FizzBuzz\")\n",
        "else:\n",
        "    if numero % 3 == 0:\n",
        "        print(\"Fizz\")\n",
        "    else:\n",
        "        if numero % 5 == 0:\n",
        "            print(\"Buzz\")\n",
        "        else:\n",
        "            print(\"No es divisible ni por 3 ni por 5\")\n",
        "\n",
        "numero = int(input(\"Ingrese un número: \"))\n",
        "\n",
        "print(\"FizzBuzz\" if numero % 3 == 0 and numero % 5 == 0\n",
        "      else \"Fizz\" if numero % 3 == 0\n",
        "      else \"Buzz\" if numero % 5 == 0\n",
        "      else \"No es divisible ni por 3 ni por 5\")"
      ],
      "metadata": {
        "id": "8RzVqu2pdEbs"
      },
      "execution_count": null,
      "outputs": []
    },
    {
      "cell_type": "code",
      "source": [
        "### PUNTO 10 ###\n",
        "\n",
        "saldo = 100000\n",
        "\n",
        "retiro = input(f\"Bienvenido a Banco Santander, su saldo actual es de: {int(saldo)}CLP ingrese el monto que quiera retirar: \")\n",
        "retiro = float(retiro)\n",
        "if retiro <= saldo and retiro > 0:\n",
        "    saldo -= retiro\n",
        "    print(f\"Operación exitosa. Retire su dinero, su saldo disponible es de: {int(saldo)}CLP\")\n",
        "else:\n",
        "    print(\"No mame, tampoco estas millonario jaja\")\n",
        "\n",
        "\n",
        "saldo = 100000\n",
        "\n",
        "retiro = float(input(f\"Bienvenido a Banco Santander, su saldo actual es de: {int(saldo)}CLP ingrese el monto que quiera retirar: \"))\n",
        "print(f\"Operación exitosa. Retire su dinero, su saldo disponible es de: {int(saldo - retiro)}CLP\") if 0 < retiro <= saldo else print(\"No mame, tampoco estas millonario jaja\")\n",
        "\n",
        "saldo = 100000\n",
        "\n",
        "retiro = float(input(f\"Bienvenido a Banco Santander, su saldo actual es de: {int(saldo)}CLP ingrese el monto que quiera retirar: \"))\n",
        "if 0 < retiro <= saldo:\n",
        "    print(f\"Operación exitosa. Retire su dinero, su saldo disponible es de: {int(saldo - retiro)}CLP\")\n",
        "elif retiro <= 0:\n",
        "    print(\"El monto a retirar debe ser mayor que cero.\")\n",
        "else:\n",
        "    print(\"No mame, tampoco estas millonario jaja\")"
      ],
      "metadata": {
        "colab": {
          "base_uri": "https://localhost:8080/"
        },
        "id": "eS4EKjG2dW_j",
        "outputId": "ba41522a-c948-4a88-fbbf-b48c99f2a289"
      },
      "execution_count": null,
      "outputs": [
        {
          "output_type": "stream",
          "name": "stdout",
          "text": [
            "Bienvenido a Banco Santander, su saldo actual es de: 100000 ingrese el monto que quiera retirar: 2000\n",
            "Operación exitosa. Retire su dinero, su saldo disponible es de: 98000CLP\n"
          ]
        }
      ]
    },
    {
      "cell_type": "markdown",
      "source": [
        "##Operador ternario\n",
        "Programar una estructura de selección en una sola linia de codigo\n",
        "\n",
        "(lo que se debe ejecutar, si la condición es verdadera) if (condicion) else (lo que se debe ejectuar, si la condición es falsa)"
      ],
      "metadata": {
        "id": "adg7-Fz1VcMb"
      }
    }
  ]
}

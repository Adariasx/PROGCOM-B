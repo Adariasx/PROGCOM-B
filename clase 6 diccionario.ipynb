{
  "cells": [
    {
      "cell_type": "markdown",
      "metadata": {
        "colab_type": "text",
        "id": "view-in-github"
      },
      "source": [
        "<a href=\"https://colab.research.google.com/github/kanutencio/PROGCOM-B/blob/main/clase6%3Bdiccionarios.ipynb\" target=\"_parent\"><img src=\"https://colab.research.google.com/assets/colab-badge.svg\" alt=\"Open In Colab\"/></a>"
      ]
    },
    {
      "cell_type": "markdown",
      "metadata": {
        "id": "Io7xC68Pa-H_"
      },
      "source": [
        "##Diccionarios\n",
        "Estructura de datos que almacena valores\n",
        "\n",
        "sintaxis\n",
        "\n",
        "\n",
        "```\n",
        "Nombre_Diccionario = {\"llave\":valor}\n",
        "```\n",
        "\n",
        "llave: siempre tiene que ser alfanumerico\n",
        "valor: cialquier tipo de dato\n"
      ]
    },
    {
      "cell_type": "code",
      "execution_count": 16,
      "metadata": {
        "colab": {
          "base_uri": "https://localhost:8080/",
          "height": 36
        },
        "id": "tiTLe-_pamaY",
        "outputId": "d25d18a6-9caf-4ced-a35a-3ce9e438663a"
      },
      "outputs": [
        {
          "data": {
            "application/vnd.google.colaboratory.intrinsic+json": {
              "type": "string"
            },
            "text/plain": [
              "'Wonder Woman'"
            ]
          },
          "execution_count": 16,
          "metadata": {},
          "output_type": "execute_result"
        }
      ],
      "source": [
        "LigaJusticia = {\"SuperHeroes\":[\"Batman\", \"Superman\", \"Wonder Woman\"], \"identidades\":[\"Bruce Wayne\", \"Clark Kent\", \"Diana Prince\"]}\n",
        "LigaJusticia[\"SuperHeroes\"][2]"
      ]
    },
    {
      "cell_type": "markdown",
      "metadata": {
        "id": "dJWRfzybgZ5z"
      },
      "source": [
        "##.popitem()\n",
        "elimina el ultimo elemento en este caso es identidades"
      ]
    },
    {
      "cell_type": "code",
      "execution_count": 19,
      "metadata": {
        "colab": {
          "base_uri": "https://localhost:8080/"
        },
        "id": "wXX9twmGefGf",
        "outputId": "a893ef40-6e41-40b4-80c7-e9ee5ee6f871"
      },
      "outputs": [
        {
          "name": "stdout",
          "output_type": "stream",
          "text": [
            "('SuperHeroes', ['Batman', 'Superman', 'Wonder Woman'])\n"
          ]
        }
      ],
      "source": [
        "x = LigaJusticia.popitem()\n",
        "print(x)"
      ]
    },
    {
      "cell_type": "markdown",
      "metadata": {
        "id": "E-i0wA-sglxL"
      },
      "source": [
        "##.setdefault()\n",
        "\n",
        "devuelve el valor del elemento con la clave especificada."
      ]
    },
    {
      "cell_type": "code",
      "execution_count": 22,
      "metadata": {
        "colab": {
          "base_uri": "https://localhost:8080/"
        },
        "id": "c6J655WdhRoN",
        "outputId": "f2ceeb08-041f-48ca-edef-efa353dc02c1"
      },
      "outputs": [
        {
          "name": "stdout",
          "output_type": "stream",
          "text": [
            "None\n"
          ]
        }
      ],
      "source": [
        "y = LigaJusticia.setdefault(\"SuperHeroes\")\n",
        "print(y)"
      ]
    },
    {
      "cell_type": "markdown",
      "metadata": {
        "id": "ZNyy0luLgy0G"
      },
      "source": [
        "##.update()\n",
        "inserta los elementos especificados en el diccionario."
      ]
    },
    {
      "cell_type": "code",
      "execution_count": 27,
      "metadata": {
        "colab": {
          "base_uri": "https://localhost:8080/"
        },
        "id": "ncupOFUbjPMd",
        "outputId": "d10f91a1-f2d4-4120-d738-3487a9a48f82"
      },
      "outputs": [
        {
          "data": {
            "text/plain": [
              "{'SuperHeroes': None, 'Villanos': ['flash reverso', 'savitar', 'zoom']}"
            ]
          },
          "execution_count": 27,
          "metadata": {},
          "output_type": "execute_result"
        }
      ],
      "source": [
        "LigaJusticia.update({\"Villanos\":[\"flash reverso\",\"savitar\",\"zoom\"]})\n",
        "LigaJusticia"
      ]
    },
    {
      "cell_type": "markdown",
      "metadata": {
        "id": "se5SlHY-kMDN"
      },
      "source": [
        "##.values()\n",
        " devuelve un objeto de vista. Este objeto contiene los valores del diccionario en forma de lista."
      ]
    },
    {
      "cell_type": "code",
      "execution_count": 29,
      "metadata": {
        "colab": {
          "base_uri": "https://localhost:8080/"
        },
        "id": "CF5ESbMTkMdC",
        "outputId": "e2cd3954-59df-4da4-d18b-9c743901bd12"
      },
      "outputs": [
        {
          "data": {
            "text/plain": [
              "dict_values([None, ['flash reverso', 'savitar', 'zoom']])"
            ]
          },
          "execution_count": 29,
          "metadata": {},
          "output_type": "execute_result"
        }
      ],
      "source": [
        "z = LigaJusticia.values()\n",
        "z"
      ]
    },
    {
      "cell_type": "markdown",
      "metadata": {
        "id": "5vvZlmI4n_6A"
      },
      "source": [
        "##.get()\n",
        "devuelve el valor del elemento con la clave especificada."
      ]
    },
    {
      "cell_type": "code",
      "execution_count": 33,
      "metadata": {
        "colab": {
          "base_uri": "https://localhost:8080/"
        },
        "id": "70BHRQmDoA6Q",
        "outputId": "7ce79c72-4a0b-40ec-f2c8-aa5da8435ebd"
      },
      "outputs": [
        {
          "name": "stdout",
          "output_type": "stream",
          "text": [
            "['Batman', 'Superman', 'Wonder Woman']\n"
          ]
        }
      ],
      "source": [
        "LigaJusticia = {\"SuperHeroes\":[\"Batman\", \"Superman\", \"Wonder Woman\"], \"identidades\":[\"Bruce Wayne\", \"Clark Kent\", \"Diana Prince\"]}\n",
        "u = LigaJusticia.get(\"SuperHeroes\")\n",
        "print(u)"
      ]
    },
    {
      "cell_type": "markdown",
      "metadata": {
        "id": "ueToMba9o1CM"
      },
      "source": [
        "##ejemplo con fromkeys con la lista liga_justicia\n",
        "\n",
        "crea un nuevo diccionario a partir de un iterable de claves y un valor predeterminado opcional"
      ]
    },
    {
      "cell_type": "code",
      "execution_count": 35,
      "metadata": {
        "colab": {
          "base_uri": "https://localhost:8080/"
        },
        "id": "Pc_eo7LUo6Qc",
        "outputId": "87545597-c8ea-470a-ddf5-bf8c6e012e37"
      },
      "outputs": [
        {
          "data": {
            "text/plain": [
              "{'superheroes': ['Flash', 'Kid Flash'], 'Identidades': ['Flash', 'Kid Flash']}"
            ]
          },
          "execution_count": 35,
          "metadata": {},
          "output_type": "execute_result"
        }
      ],
      "source": [
        "llaves = [\"superheroes\", \"Identidades\"]\n",
        "valores = [\"Flash\", \"Kid Flash\"]\n",
        "heroes = dict.fromkeys(llaves,valores)\n",
        "heroes"
      ]
    },
    {
      "cell_type": "markdown",
      "metadata": {
        "id": "Q9YcNoY3pIJt"
      },
      "source": [
        "##ahora ejemplo con con copy\n",
        "\n",
        "crea una copia superficial de un diccionario, lo que significa que genera un nuevo objeto diccionario con sus propios pares clave-valor, pero comparte referencias a los objetos internos con el diccionario original\n"
      ]
    },
    {
      "cell_type": "code",
      "execution_count": 38,
      "metadata": {
        "colab": {
          "base_uri": "https://localhost:8080/"
        },
        "id": "lkaWgp72pLhc",
        "outputId": "6c6811da-d23b-4a58-eee0-9e190ffba232"
      },
      "outputs": [
        {
          "data": {
            "text/plain": [
              "{'SuperHeroes': ['Batman', 'Superman', 'Wonder Woman'],\n",
              " 'identidades': ['Bruce Wayne', 'Clark Kent', 'Diana\\xa0Prince']}"
            ]
          },
          "execution_count": 38,
          "metadata": {},
          "output_type": "execute_result"
        }
      ],
      "source": [
        "LigaJusticia = {\"SuperHeroes\":[\"Batman\", \"Superman\", \"Wonder Woman\"], \"identidades\":[\"Bruce Wayne\", \"Clark Kent\", \"Diana Prince\"]}\n",
        "justiciajoven = {}\n",
        "justiciajoven = LigaJusticia.copy()\n",
        "justiciajoven"
      ]
    },
    {
      "cell_type": "markdown",
      "metadata": {
        "id": "WPAm1VoopoCm"
      },
      "source": [
        "##.items()\n",
        "muestra todos los elementos del diccionario\n"
      ]
    },
    {
      "cell_type": "code",
      "execution_count": 39,
      "metadata": {
        "colab": {
          "base_uri": "https://localhost:8080/"
        },
        "id": "AYfQeZBZpqtu",
        "outputId": "64d65609-18e2-4cf2-a247-106e07cffd0f"
      },
      "outputs": [
        {
          "data": {
            "text/plain": [
              "dict_items([('SuperHeroes', ['Batman', 'Superman', 'Wonder Woman']), ('identidades', ['Bruce Wayne', 'Clark Kent', 'Diana\\xa0Prince'])])"
            ]
          },
          "execution_count": 39,
          "metadata": {},
          "output_type": "execute_result"
        }
      ],
      "source": [
        "LigaJusticia.items()"
      ]
    },
    {
      "cell_type": "markdown",
      "metadata": {
        "id": "lh66Z1MPpz15"
      },
      "source": [
        "#vamos hacer un ejemplo con la con clear\n",
        "\n",
        "elimina todos los pares clave-valor del diccionario, dejándolo vacío\n"
      ]
    },
    {
      "cell_type": "code",
      "execution_count": 40,
      "metadata": {
        "colab": {
          "base_uri": "https://localhost:8080/"
        },
        "id": "wjLT7dysp2On",
        "outputId": "1b09ee4b-0fdf-41e2-b858-e3a15c8b78d3"
      },
      "outputs": [
        {
          "data": {
            "text/plain": [
              "{}"
            ]
          },
          "execution_count": 40,
          "metadata": {},
          "output_type": "execute_result"
        }
      ],
      "source": [
        "LigaJusticia.clear()\n",
        "LigaJusticia"
      ]
    },
    {
      "cell_type": "markdown",
      "metadata": {
        "id": "wmM6pw-1p6tz"
      },
      "source": [
        "##.key\n",
        "Nos muestra las llaves que hay en el diccionario.\n"
      ]
    },
    {
      "cell_type": "code",
      "execution_count": 41,
      "metadata": {
        "colab": {
          "base_uri": "https://localhost:8080/"
        },
        "id": "GyMvIepWp96Q",
        "outputId": "19b534da-3f2e-43f0-d453-7c0da89edf1f"
      },
      "outputs": [
        {
          "data": {
            "text/plain": [
              "dict_keys(['SuperHeroes', 'identidades'])"
            ]
          },
          "execution_count": 41,
          "metadata": {},
          "output_type": "execute_result"
        }
      ],
      "source": [
        "LigaJusticia = {\"SuperHeroes\":[\"Batman\", \"Superman\", \"Wonder Woman\"], \"identidades\":[\"Bruce Wayne\", \"Clark Kent\", \"Diana Prince\"]}\n",
        "LigaJusticia.keys()"
      ]
    },
    {
      "cell_type": "markdown",
      "metadata": {
        "id": "OculQ4oLqEJx"
      },
      "source": [
        "##.pop\n",
        "Elimina una de las llaves presentes en el diccionario.\n"
      ]
    },
    {
      "cell_type": "code",
      "execution_count": 43,
      "metadata": {
        "colab": {
          "base_uri": "https://localhost:8080/"
        },
        "id": "P8UeyngrqHZ8",
        "outputId": "1fb1eaa1-b32b-402a-d5cc-f8e55021ddf0"
      },
      "outputs": [
        {
          "data": {
            "text/plain": [
              "{'identidades': ['Bruce Wayne', 'Clark Kent', 'Diana\\xa0Prince']}"
            ]
          },
          "execution_count": 43,
          "metadata": {},
          "output_type": "execute_result"
        }
      ],
      "source": [
        "LigaJusticia.pop('SuperHeroes')\n",
        "LigaJusticia"
      ]
    }
  ],
  "metadata": {
    "colab": {
      "authorship_tag": "ABX9TyPpuuYuMHNf3UUbjsnS4gI+",
      "include_colab_link": true,
      "provenance": []
    },
    "kernelspec": {
      "display_name": "Python 3",
      "name": "python3"
    },
    "language_info": {
      "name": "python"
    }
  },
  "nbformat": 4,
  "nbformat_minor": 0
}

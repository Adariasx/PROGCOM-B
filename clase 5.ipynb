{
 "cells": [
  {
   "cell_type": "markdown",
   "id": "d1ae4241",
   "metadata": {},
   "source": [
    "# Clase 5: listas\n",
    "\n",
    "1. Un nuevo tipo de datos\n",
    "2. Es mutable dentro de la misma lista\n",
    "3. Idexación: hay un orden\n",
    "4. Hay un numero finito de posiciones\n",
    "5. Todas las listas se abren y cierran con [] y se separan con coma (,)\n",
    "\n",
    "Sintaxis:"
   ]
  },
  {
   "cell_type": "code",
   "execution_count": 4,
   "id": "b7c7f393",
   "metadata": {},
   "outputs": [],
   "source": [
    "nombre_lista=[]\n",
    "flores=[\"margarita\",\"rosa\",\"tulipan\"]"
   ]
  },
  {
   "cell_type": "markdown",
   "id": "555721ca",
   "metadata": {},
   "source": [
    "Listas por extensión."
   ]
  },
  {
   "cell_type": "code",
   "execution_count": 5,
   "id": "8a8f2626",
   "metadata": {},
   "outputs": [
    {
     "name": "stdout",
     "output_type": "stream",
     "text": [
      "[2, 3, 4, 5, 6, 7, 8, 9, 10, 11]\n"
     ]
    }
   ],
   "source": [
    "nu = []\n",
    "for i in range(1, 11):\n",
    "    nu.append(i+1)\n",
    "print(nu)"
   ]
  },
  {
   "cell_type": "code",
   "execution_count": 6,
   "id": "2ee53b8c",
   "metadata": {},
   "outputs": [],
   "source": [
    "nombres=[]\n",
    "for i in range(3):\n",
    "    nombres.append(input(\"Ingrese un nombre: \"))"
   ]
  },
  {
   "cell_type": "markdown",
   "id": "1fa7ee08",
   "metadata": {},
   "source": [
    "## Indexación de listas \n",
    "\n",
    "**Python cuenta desde 0**\n",
    "\n",
    "Lista = [Elemento1, Elemento2, Elemento3]\n",
    "\n",
    "Lista[0] = Elemento1\n",
    "\n",
    "Lista[3] = Error, fuera de rango"
   ]
  },
  {
   "cell_type": "code",
   "execution_count": null,
   "id": "1f40aa86",
   "metadata": {},
   "outputs": [
    {
     "data": {
      "text/plain": [
       "[2, 4, 6, 8, 10]"
      ]
     },
     "execution_count": 7,
     "metadata": {},
     "output_type": "execute_result"
    }
   ],
   "source": [
    "#Indexacion negativa\n",
    "Lista_num = [1,2,3,4,5,6,7,8,9,10]\n",
    "Lista_num[-1]\n",
    "Lista_num[5]\n",
    "Lista_num[len(Lista_num)-1]\n",
    "Lista_num[::]\n",
    "Lista_num[:2]\n",
    "\n",
    "#2. Vamos a obtener los pares de Lista_num\n",
    "pares = [x for x in Lista_num if x % 2 == 0]\n",
    "pares"
   ]
  },
  {
   "cell_type": "code",
   "execution_count": 15,
   "id": "7bb5c3fe",
   "metadata": {},
   "outputs": [
    {
     "data": {
      "text/plain": [
       "[('negativo', -1),\n",
       " ('positivo', 2),\n",
       " ('negativo', -3),\n",
       " ('positivo', 4),\n",
       " ('negativo', -5),\n",
       " ('positivo', 6),\n",
       " ('negativo', -7),\n",
       " ('positivo', 8),\n",
       " ('negativo', -9),\n",
       " ('positivo', 10)]"
      ]
     },
     "execution_count": 15,
     "metadata": {},
     "output_type": "execute_result"
    }
   ],
   "source": [
    "#3. Clasificar numeros en positivos y negativos\n",
    "numeros = [-1,2,-3,4,-5,6,-7,8,-9,10]\n",
    "clasicacion = [(\"positivo\", x) if x >=0 else (\"negativo\", x) for x in numeros]\n",
    "clasicacion"
   ]
  },
  {
   "cell_type": "markdown",
   "id": "fba50ead",
   "metadata": {},
   "source": [
    "## Listas por compresión\n",
    "\n",
    "Son expresiones que generar listas\n",
    "\n",
    "Sintaxis:\n",
    "\n",
    "nombre_lista=[expresion for variable in iteracion if condicion]\n",
    "\n",
    "## Ejemplo"
   ]
  },
  {
   "cell_type": "code",
   "execution_count": 16,
   "id": "2d997a9e",
   "metadata": {},
   "outputs": [
    {
     "data": {
      "text/plain": [
       "3"
      ]
     },
     "execution_count": 16,
     "metadata": {},
     "output_type": "execute_result"
    }
   ],
   "source": [
    "#1. convertir una lista de oraciones en una lista de palabras\n",
    "oracion = [\"Aqui va una oración\",\"Otra oración\", \"aqui va la tercera oración\"]\n",
    "len(oracion)"
   ]
  },
  {
   "cell_type": "code",
   "execution_count": 17,
   "id": "5d1d7360",
   "metadata": {},
   "outputs": [
    {
     "data": {
      "text/plain": [
       "[['Aqui', 'va', 'una', 'oración'],\n",
       " ['Otra', 'oración'],\n",
       " ['aqui', 'va', 'la', 'tercera', 'oración']]"
      ]
     },
     "execution_count": 17,
     "metadata": {},
     "output_type": "execute_result"
    }
   ],
   "source": [
    "palabras = [i.split() for i in oracion]\n",
    "palabras"
   ]
  },
  {
   "cell_type": "code",
   "execution_count": 18,
   "id": "307ed54a",
   "metadata": {},
   "outputs": [
    {
     "data": {
      "text/plain": [
       "5"
      ]
     },
     "execution_count": 18,
     "metadata": {},
     "output_type": "execute_result"
    }
   ],
   "source": [
    "len(palabras[2])"
   ]
  }
 ],
 "metadata": {
  "kernelspec": {
   "display_name": "Python 3",
   "language": "python",
   "name": "python3"
  },
  "language_info": {
   "codemirror_mode": {
    "name": "ipython",
    "version": 3
   },
   "file_extension": ".py",
   "mimetype": "text/x-python",
   "name": "python",
   "nbconvert_exporter": "python",
   "pygments_lexer": "ipython3",
   "version": "3.13.7"
  }
 },
 "nbformat": 4,
 "nbformat_minor": 5
}
